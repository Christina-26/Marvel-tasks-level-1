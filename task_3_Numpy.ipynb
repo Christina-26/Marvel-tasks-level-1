{
  "nbformat": 4,
  "nbformat_minor": 0,
  "metadata": {
    "colab": {
      "provenance": [],
      "authorship_tag": "ABX9TyMawLNWC8dJ33EWV2mGd69b",
      "include_colab_link": true
    },
    "kernelspec": {
      "name": "python3",
      "display_name": "Python 3"
    },
    "language_info": {
      "name": "python"
    }
  },
  "cells": [
    {
      "cell_type": "markdown",
      "metadata": {
        "id": "view-in-github",
        "colab_type": "text"
      },
      "source": [
        "<a href=\"https://colab.research.google.com/github/Christina-26/Marvel-tasks-level-1/blob/main/task_3_Numpy.ipynb\" target=\"_parent\"><img src=\"https://colab.research.google.com/assets/colab-badge.svg\" alt=\"Open In Colab\"/></a>"
      ]
    },
    {
      "cell_type": "code",
      "execution_count": 1,
      "metadata": {
        "id": "qk27E0whmskJ"
      },
      "outputs": [],
      "source": [
        "import numpy as np"
      ]
    },
    {
      "cell_type": "code",
      "source": [
        "#1D ARRAY\n",
        "#list\n",
        "a = np.array([1,2,3,4,5])\n",
        "#tuple\n",
        "b = np.array((1,2,3,4,5))\n",
        "print(a)\n",
        "print(b)"
      ],
      "metadata": {
        "colab": {
          "base_uri": "https://localhost:8080/"
        },
        "id": "2d6rb_AKmwG-",
        "outputId": "caf39d3d-3ec5-4273-89a9-c6f10b7b1926"
      },
      "execution_count": 2,
      "outputs": [
        {
          "output_type": "stream",
          "name": "stdout",
          "text": [
            "[1 2 3 4 5]\n",
            "[1 2 3 4 5]\n"
          ]
        }
      ]
    },
    {
      "cell_type": "code",
      "source": [
        "# 2D ARRAY using tuple\n",
        "a2 = np.array([(1,2,3),(4,5,6)])\n",
        "print(a2)"
      ],
      "metadata": {
        "colab": {
          "base_uri": "https://localhost:8080/"
        },
        "id": "juf_21-MnpS9",
        "outputId": "398576e1-db41-4e77-f666-907f130ee42b"
      },
      "execution_count": 12,
      "outputs": [
        {
          "output_type": "stream",
          "name": "stdout",
          "text": [
            "[[1 2 3]\n",
            " [4 5 6]]\n"
          ]
        }
      ]
    },
    {
      "cell_type": "code",
      "source": [
        "#2D ARRAY using list\n",
        "b2 = np.array([[12,23,34],[45,56,67]])\n",
        "print(b2)"
      ],
      "metadata": {
        "colab": {
          "base_uri": "https://localhost:8080/"
        },
        "id": "hmMNx3AwoGYF",
        "outputId": "3e736d52-59b0-4f29-ab8a-49ed090b0d76"
      },
      "execution_count": 4,
      "outputs": [
        {
          "output_type": "stream",
          "name": "stdout",
          "text": [
            "[[12 23 34]\n",
            " [45 56 67]]\n"
          ]
        }
      ]
    },
    {
      "cell_type": "code",
      "source": [
        "#checking dimension of array\n",
        "b2.ndim"
      ],
      "metadata": {
        "colab": {
          "base_uri": "https://localhost:8080/"
        },
        "id": "g6htHeIKoY6u",
        "outputId": "e4c45c7f-347d-4a46-a924-ce8709f7977f"
      },
      "execution_count": 20,
      "outputs": [
        {
          "output_type": "execute_result",
          "data": {
            "text/plain": [
              "2"
            ]
          },
          "metadata": {},
          "execution_count": 20
        }
      ]
    },
    {
      "cell_type": "code",
      "source": [
        "a.ndim"
      ],
      "metadata": {
        "colab": {
          "base_uri": "https://localhost:8080/"
        },
        "id": "-i3f-fRRom1c",
        "outputId": "8a4f1319-017b-4194-f020-2cb94d5389b5"
      },
      "execution_count": 7,
      "outputs": [
        {
          "output_type": "execute_result",
          "data": {
            "text/plain": [
              "1"
            ]
          },
          "metadata": {},
          "execution_count": 7
        }
      ]
    },
    {
      "cell_type": "code",
      "source": [
        "a2.ndim"
      ],
      "metadata": {
        "colab": {
          "base_uri": "https://localhost:8080/"
        },
        "id": "-cAO5rK_oq4l",
        "outputId": "e366cbdf-9f34-4478-e67a-104eb080973d"
      },
      "execution_count": 13,
      "outputs": [
        {
          "output_type": "execute_result",
          "data": {
            "text/plain": [
              "2"
            ]
          },
          "metadata": {},
          "execution_count": 13
        }
      ]
    },
    {
      "cell_type": "code",
      "source": [
        "#3D ARRAY using tuple\n",
        "a3 = np.array([((1,2,3),(4,5,6)),((7,8,9),(1,2,3))])\n",
        "print(a3)"
      ],
      "metadata": {
        "colab": {
          "base_uri": "https://localhost:8080/"
        },
        "id": "bdnUGXhSpQVl",
        "outputId": "c3e342a8-460d-4c63-a462-cbd04e8714b3"
      },
      "execution_count": 16,
      "outputs": [
        {
          "output_type": "stream",
          "name": "stdout",
          "text": [
            "[[[1 2 3]\n",
            "  [4 5 6]]\n",
            "\n",
            " [[7 8 9]\n",
            "  [1 2 3]]]\n"
          ]
        }
      ]
    },
    {
      "cell_type": "code",
      "source": [
        "a3.ndim"
      ],
      "metadata": {
        "colab": {
          "base_uri": "https://localhost:8080/"
        },
        "id": "dKLDAhkupkpw",
        "outputId": "229118cf-54fd-40d1-9bff-94863cde9a7e"
      },
      "execution_count": 17,
      "outputs": [
        {
          "output_type": "execute_result",
          "data": {
            "text/plain": [
              "3"
            ]
          },
          "metadata": {},
          "execution_count": 17
        }
      ]
    },
    {
      "cell_type": "code",
      "source": [
        "#accessing array elements\n",
        "a3[0][0][1]"
      ],
      "metadata": {
        "colab": {
          "base_uri": "https://localhost:8080/"
        },
        "id": "wa2LmRh8poLm",
        "outputId": "15cb1ea4-01fd-49d1-8770-1a17ba9b69d2"
      },
      "execution_count": 19,
      "outputs": [
        {
          "output_type": "execute_result",
          "data": {
            "text/plain": [
              "2"
            ]
          },
          "metadata": {},
          "execution_count": 19
        }
      ]
    },
    {
      "cell_type": "code",
      "source": [
        "#creating a array by repeating small array of 1D\n",
        "a = np.array([1,2,3,4,5])\n",
        "newarray = np.repeat(a,3,axis=0)\n",
        "print(newarray)"
      ],
      "metadata": {
        "colab": {
          "base_uri": "https://localhost:8080/"
        },
        "id": "0ON6WPcOrCJL",
        "outputId": "443aa62a-fc6e-4c9a-e523-2ee58b13821e"
      },
      "execution_count": 24,
      "outputs": [
        {
          "output_type": "stream",
          "name": "stdout",
          "text": [
            "[1 1 1 2 2 2 3 3 3 4 4 4 5 5 5]\n"
          ]
        }
      ]
    },
    {
      "cell_type": "code",
      "source": [
        "#creating a array by repeating small array of 2D\n",
        "newarrayy = np.repeat(a2,4,axis=1)\n",
        "print(newarrayy)"
      ],
      "metadata": {
        "colab": {
          "base_uri": "https://localhost:8080/"
        },
        "id": "IqEJ1VMZsQ_n",
        "outputId": "25ac0be2-269e-48c4-c72e-4a6b2f9cc7e5"
      },
      "execution_count": 23,
      "outputs": [
        {
          "output_type": "stream",
          "name": "stdout",
          "text": [
            "[[1 1 1 1 2 2 2 2 3 3 3 3]\n",
            " [4 4 4 4 5 5 5 5 6 6 6 6]]\n"
          ]
        }
      ]
    },
    {
      "cell_type": "code",
      "source": [
        "#creating a array by repeating small array of 3D\n",
        "newarr = np.repeat(a3,5,axis = 2)\n",
        "print(newarr)"
      ],
      "metadata": {
        "colab": {
          "base_uri": "https://localhost:8080/"
        },
        "id": "lf1en3jEsmCv",
        "outputId": "b99029f4-7773-4c15-b118-022b4bf25c42"
      },
      "execution_count": 25,
      "outputs": [
        {
          "output_type": "stream",
          "name": "stdout",
          "text": [
            "[[[1 1 1 1 1 2 2 2 2 2 3 3 3 3 3]\n",
            "  [4 4 4 4 4 5 5 5 5 5 6 6 6 6 6]]\n",
            "\n",
            " [[7 7 7 7 7 8 8 8 8 8 9 9 9 9 9]\n",
            "  [1 1 1 1 1 2 2 2 2 2 3 3 3 3 3]]]\n"
          ]
        }
      ]
    },
    {
      "cell_type": "code",
      "source": [
        "#Generate an array with element indexes such that the array elements appear in ascending order\n",
        "arraysize = 5\n",
        "elements = np.argsort(np.arange(arraysize))\n",
        "print(elements)"
      ],
      "metadata": {
        "colab": {
          "base_uri": "https://localhost:8080/"
        },
        "id": "9HmHBowWsxy1",
        "outputId": "88525661-9bb7-41f1-d732-b3ed99594253"
      },
      "execution_count": 27,
      "outputs": [
        {
          "output_type": "stream",
          "name": "stdout",
          "text": [
            "[0 1 2 3 4]\n"
          ]
        }
      ]
    }
  ]
}