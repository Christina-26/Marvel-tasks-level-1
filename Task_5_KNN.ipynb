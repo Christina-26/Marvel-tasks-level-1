{
  "nbformat": 4,
  "nbformat_minor": 0,
  "metadata": {
    "colab": {
      "provenance": [],
      "authorship_tag": "ABX9TyMq2TTI7V6Yz9iVZ2YU0TDn",
      "include_colab_link": true
    },
    "kernelspec": {
      "name": "python3",
      "display_name": "Python 3"
    },
    "language_info": {
      "name": "python"
    }
  },
  "cells": [
    {
      "cell_type": "markdown",
      "metadata": {
        "id": "view-in-github",
        "colab_type": "text"
      },
      "source": [
        "<a href=\"https://colab.research.google.com/github/Christina-26/Marvel-tasks-level-1/blob/main/Task_5_KNN.ipynb\" target=\"_parent\"><img src=\"https://colab.research.google.com/assets/colab-badge.svg\" alt=\"Open In Colab\"/></a>"
      ]
    },
    {
      "cell_type": "markdown",
      "source": [
        "# **K-Nearest Neighbors**\n",
        "The k-Nearest Neighbors algorithm or KNN for short is a very simple technique.\n",
        "\n",
        "The entire training dataset is stored. When a prediction is required, the k-most similar records to a new record from the training dataset are then located. From these neighbors, a summarized prediction is made.\n"
      ],
      "metadata": {
        "id": "gjpiBxuIv46E"
      }
    },
    {
      "cell_type": "code",
      "execution_count": null,
      "metadata": {
        "colab": {
          "base_uri": "https://localhost:8080/"
        },
        "id": "yMCazp61v0bw",
        "outputId": "98fe026e-2115-48b8-8d25-6e7d8436f626"
      },
      "outputs": [
        {
          "output_type": "execute_result",
          "data": {
            "text/plain": [
              "0.9666666666666667"
            ]
          },
          "metadata": {},
          "execution_count": 46
        }
      ],
      "source": [
        "import numpy as np\n",
        "import pandas as pd\n",
        "import matplotlib.pyplot as plt\n",
        "from sklearn import datasets\n",
        "from sklearn.metrics import accuracy_score\n",
        "from sklearn.model_selection import train_test_split\n",
        "from sklearn.neighbors import KNeighborsClassifier\n",
        "from sklearn import preprocessing\n",
        "iris=datasets.load_iris()\n",
        "x=iris.data\n",
        "y=iris.target\n",
        "x_train,x_test,y_train,y_test = train_test_split(x,y,test_size=0.2,random_state=12)\n",
        "knn=KNeighborsClassifier(n_neighbors=3)\n",
        "knn.fit(x_train,y_train)\n",
        "knn.score(x_test,y_test)"
      ]
    },
    {
      "cell_type": "markdown",
      "source": [
        "KNN computes the distance between the new data point with every training example.\n",
        "Model picks K entries in the database which are closest to the new data point.\n",
        "Then it does the majority vote i.e the most common class/label among those K entries will be the class of the new data point\n",
        ".![1_hncgU7vWLBsRvc8WJhxlkQ.webp](data:image/webp;base64,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)\n"
      ],
      "metadata": {
        "id": "R8u5O3Za257a"
      }
    },
    {
      "cell_type": "markdown",
      "source": [
        "\n",
        "\n",
        "---\n",
        "\n"
      ],
      "metadata": {
        "id": "yoMgBZSK3gwQ"
      }
    },
    {
      "cell_type": "code",
      "source": [
        "#initialise the class\n",
        "import numpy as np\n",
        "from collections import Counter\n",
        "#Euclidian Distance\n",
        "def euclidean_distance(x1, x2):\n",
        "    return np.sqrt(np.sum((x1 - x2)**2))\n",
        "class k_nearest_neighbors:\n",
        "    def __init__(self, k):\n",
        "        self.k = k"
      ],
      "metadata": {
        "id": "Ywsz5Q7m5jQf"
      },
      "execution_count": null,
      "outputs": []
    },
    {
      "cell_type": "code",
      "source": [
        "#Fit the model\n",
        "from sklearn import datasets\n",
        "from sklearn.model_selection import train_test_split\n",
        "iris_data = datasets.load_iris()\n",
        "data = iris_data.data\n",
        "target = iris_data.target\n",
        "# Train/Test splits\n",
        "X_train, X_test, y_train, y_test = train_test_split(data, target, test_size=0.3)\n",
        "print(X_train.shape)\n",
        "print(X_train[0])\n",
        "print(y_train.shape)\n",
        "print(y_train)"
      ],
      "metadata": {
        "colab": {
          "base_uri": "https://localhost:8080/"
        },
        "id": "6tiLLKar5oMP",
        "outputId": "89d94c22-2987-4b1b-a662-35098723cef4"
      },
      "execution_count": null,
      "outputs": [
        {
          "output_type": "stream",
          "name": "stdout",
          "text": [
            "(105, 4)\n",
            "[5.4 3.4 1.7 0.2]\n",
            "(105,)\n",
            "[0 1 0 0 2 0 0 2 2 2 2 2 1 2 0 2 0 2 2 1 1 2 2 1 2 2 2 1 1 1 1 1 2 1 0 0 1\n",
            " 0 2 1 0 1 0 0 2 0 2 2 2 0 0 1 1 0 2 0 2 1 1 1 1 2 2 1 2 0 0 0 1 2 0 0 1 0\n",
            " 2 1 2 1 1 2 1 1 1 0 0 0 1 0 0 0 1 0 2 1 1 1 1 2 2 0 0 0 1 0 2]\n"
          ]
        }
      ]
    },
    {
      "cell_type": "markdown",
      "source": [
        "In the knn_fit method, this is our training step so all we want to do here is store our training samples and use them later by using the self method"
      ],
      "metadata": {
        "id": "9s9rXkOv57AH"
      }
    },
    {
      "cell_type": "markdown",
      "source": [
        "# Accuracy of model made from sklearn KNN classifier"
      ],
      "metadata": {
        "id": "lEotha1M9MQD"
      }
    },
    {
      "cell_type": "code",
      "source": [
        "# Sklearn-learn KNN Classifier\n",
        "# Instantiate model\n",
        "model_SKlean = KNeighborsClassifier(n_neighbors=3)\n",
        "# Fit\n",
        "model_SKlean.fit(X_train, y_train)\n",
        "# Prediction\n",
        "predict = model_SKlean.predict(X_test)\n",
        "# Accuracy Score\n",
        "print(\"Scikit-learn KNN classifier accuracy:{0:.3f}\".format(accuracy_score(y_test, predict)))"
      ],
      "metadata": {
        "colab": {
          "base_uri": "https://localhost:8080/"
        },
        "id": "-iHEZOEm81X7",
        "outputId": "af776bcc-3fd4-4f35-9da3-7a971a2554fb"
      },
      "execution_count": null,
      "outputs": [
        {
          "output_type": "stream",
          "name": "stdout",
          "text": [
            "Scikit-learn KNN classifier accuracy:0.978\n"
          ]
        }
      ]
    },
    {
      "cell_type": "markdown",
      "source": [
        "# Accuracy of model made from scratch\n"
      ],
      "metadata": {
        "id": "MTPOyjrh6Re4"
      }
    },
    {
      "cell_type": "code",
      "source": [
        "import numpy as np\n",
        "from collections import Counter\n",
        "def euclidean(x1,x2):\n",
        "    return np.sqrt(np.sum((x1-x2)**2))\n",
        "class KNN:\n",
        "    def __init__(self,k=5):\n",
        "        self.k=k\n",
        "\n",
        "    def fit(self,x_train,y_train):\n",
        "        self.x_train=x_train\n",
        "        self.y_train=y_train\n",
        "#predict calculates the Euclidean distance between x_test and all data points in the training set\n",
        "#predicts their labels by calling _predict for each test data point and returned as a NumPy array\n",
        "    def predict(self,x_test):\n",
        "        predicted_labels=[self._predict(i) for i in x_test]\n",
        "        return np.array(predicted_labels)\n",
        "\n",
        "    def _predict(self,x_test):\n",
        "        distances = [euclidean(x_test,x_train) for x_train in self.x_train]\n",
        "        k_indices = np.argsort(distances)[:self.k]\n",
        "        k_nearest_labels = [self.y_train[i] for i in k_indices]\n",
        "        #finds the most common label among the k nearest neighbors\n",
        "        most_common = Counter(k_nearest_labels).most_common()\n",
        "        return most_common[0][0]\n",
        "iris=datasets.load_iris()\n",
        "x=iris.data\n",
        "y=iris.target\n",
        "#80 : 20 split train test\n",
        "x_train,x_test,y_train,y_test = train_test_split(x,y,test_size=0.2,random_state=12)\n",
        "knn = KNN(3)\n",
        "knn.fit(x_train,y_train)\n",
        "predictions=knn.predict(x_test)\n",
        "print(\"Accuracy of model made from scratch:\",(np.sum(predictions==y_test)/len(y_test)))"
      ],
      "metadata": {
        "colab": {
          "base_uri": "https://localhost:8080/"
        },
        "id": "Ah1rGpXp-b3y",
        "outputId": "f749deb6-72c1-4bb8-af8a-27ae477bc82c"
      },
      "execution_count": null,
      "outputs": [
        {
          "output_type": "stream",
          "name": "stdout",
          "text": [
            "Accuracy of model made from scratch: 0.9666666666666667\n"
          ]
        }
      ]
    }
  ]
}